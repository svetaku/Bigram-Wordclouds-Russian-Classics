{
 "cells": [
  {
   "cell_type": "code",
   "execution_count": 1,
   "metadata": {},
   "outputs": [],
   "source": [
    "import os"
   ]
  },
  {
   "cell_type": "code",
   "execution_count": 49,
   "metadata": {},
   "outputs": [],
   "source": [
    "home_path = 'C:\\\\Users\\\\svvlk\\\\Documents\\\\python\\\\personal\\\\bigram_wordclouds\\\\'"
   ]
  },
  {
   "cell_type": "code",
   "execution_count": 33,
   "metadata": {
    "scrolled": true
   },
   "outputs": [
    {
     "name": "stdout",
     "output_type": "stream",
     "text": [
      "['archive\\\\prose\\\\Blok\\\\', 'archive\\\\prose\\\\Chekhov\\\\', 'archive\\\\prose\\\\Dostoevsky\\\\', 'archive\\\\prose\\\\Gogol\\\\', 'archive\\\\prose\\\\Gorky\\\\', 'archive\\\\prose\\\\Pushkin\\\\', 'archive\\\\prose\\\\Tolstoy\\\\', 'archive\\\\prose\\\\Turgenev\\\\']\n"
     ]
    }
   ],
   "source": [
    "# Создаем список директорий с папками авторов\n",
    "os.chdir(home_path)\n",
    "\n",
    "author_dirs = []\n",
    "for x in os.listdir('archive\\\\prose'):\n",
    "    x = 'archive\\\\prose\\\\' + x + '\\\\'\n",
    "    author_dirs.append(x)\n",
    "    \n",
    "print(author_dirs)"
   ]
  },
  {
   "cell_type": "code",
   "execution_count": 54,
   "metadata": {},
   "outputs": [],
   "source": [
    "# Создаем по скомпилированному файлу всех произведений каждого автора в новой папке 'compiled_corpora',\n",
    "# а также создаем файл 'total_corp.txt' из всех произведений всех авторов\n",
    "\n",
    "os.chdir(home_path)\n",
    "os.makedirs('compiled_corpora')\n",
    "\n",
    "for x in author_dirs:\n",
    "    author_name = x.split('\\\\')[-2]\n",
    "    for i in os.listdir(x):\n",
    "        os.chdir(home_path + x)\n",
    "        if i.endswith('.txt'):\n",
    "            with open(i, 'r', encoding='utf-8') as text:\n",
    "                text = text.read()\n",
    "            os.chdir(home_path)\n",
    "            f = open('compiled_corpora\\\\%s.txt' % author_name, 'a', encoding='utf-8')\n",
    "            f.write(text + '\\n')\n",
    "            f.close()\n",
    "            f = open('compiled_corpora\\\\total_corp.txt', 'a', encoding='utf-8')\n",
    "            f.write(text + '\\n')\n",
    "            f.close()\n"
   ]
  }
 ],
 "metadata": {
  "kernelspec": {
   "display_name": "Python 3",
   "language": "python",
   "name": "python3"
  },
  "language_info": {
   "codemirror_mode": {
    "name": "ipython",
    "version": 3
   },
   "file_extension": ".py",
   "mimetype": "text/x-python",
   "name": "python",
   "nbconvert_exporter": "python",
   "pygments_lexer": "ipython3",
   "version": "3.10.7"
  }
 },
 "nbformat": 4,
 "nbformat_minor": 4
}
