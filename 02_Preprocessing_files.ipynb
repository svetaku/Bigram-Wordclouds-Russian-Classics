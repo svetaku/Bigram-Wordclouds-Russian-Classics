{
 "cells": [
  {
   "cell_type": "code",
   "execution_count": 1,
   "metadata": {},
   "outputs": [],
   "source": [
    "import os"
   ]
  },
  {
   "cell_type": "code",
   "execution_count": 2,
   "metadata": {},
   "outputs": [],
   "source": [
    "'''Text preprocessing function using regular expressions.\n",
    "Cleaning the text from the names of the authors, chapter numbers,\n",
    "Roman numbers, page numbers, footnotes, and punctuation. \n",
    "Lowercasing the text.'''\n",
    "\n",
    "def preprocessor(text):\n",
    "    import re\n",
    "    text = text.replace(\"Лев Николаевич Толстой\", \" \").replace(\"Лев Толстой\", \" \").replace(\"Часть первая\", \" \").\\\n",
    "        replace(\"Часть вторая\", \" \").replace(\"Часть третья\", \" \").replace(\"Часть четвертая\", \" \").\\\n",
    "        replace(\"ЧАСТЬ ПЕРВАЯ\", \" \").replace(\"ЧАСТЬ ВТОРАЯ\", \" \").replace(\"ЧАСТЬ ТРЕТЬЯ\", \" \").\\\n",
    "        replace(\"ЧАСТЬ ЧЕТВЕРТАЯ\", \" \").replace(\"Антон Чехов\", \" \").replace(\"Примечания\", \" \").\\\n",
    "        replace(\"Николай Гоголь\", \" \").replace(\"Николай Васильевич Гоголь\", \" \").replace(\"Максим Горький\", \" \").\\\n",
    "        replace(\"М. ГОРЬКИЙ\", \" \").replace(\"Александр Сергеевич Пушкин\", \" \").replace(\"Александр Пушкин\", \" \").\\\n",
    "        replace(\"Иван Сергеевич Тургенев\", \" \").replace(\"Иван Тургенев\", \" \").replace(\"Федор Михайлович Достоевский\", \" \")\n",
    "        \n",
    "    text = re.sub(r\"(Глава|ГЛАВА|Том|ТОМ) \\S+\", \" \", text)\n",
    "    text = re.sub(r\"--+\", \"-\", text)\n",
    "    text = re.sub(r\"\\**\\[.*\\]\", \" \", text)\n",
    "    text = re.sub(r\"\\[.*\\]\", \" \", text)\n",
    "    text = re.sub(r\"{.*}\", \" \", text)\n",
    "    text = re.sub(r\"Стр\\..+\\n\", \" \", text)\n",
    "    text = re.sub(r\"[IVXL]+\", \" \", text)\n",
    "    text = re.sub(r\" - \", \" \", text)\n",
    "    text = re.sub(r\"[А-Я]\\. *[А-Я]\\. [А-Я]\\S+\", \" \", text)\n",
    "    text = re.sub(r\"<<.+>>\", \" \", text)\n",
    "    text = re.sub(r\"[!@#$%\\^\\&\\*()_=+\\?\\!:;\\\",\\.»«—]\", \" \", text)\n",
    "    text = re.sub(r\"\\n+\", \" \", text)\n",
    "    text = re.sub(r\"\\s\\s*\", \" \", text)\n",
    "    text = text.lower()\n",
    "    return text"
   ]
  },
  {
   "cell_type": "code",
   "execution_count": 7,
   "metadata": {},
   "outputs": [],
   "source": [
    "# Создаем для каждого автора по одному файлу со всеми очищенными произведениями, а также очищенный total_corp в папке 'compiled_corpora\\clean'\n",
    "\n",
    "home_path = 'C:\\\\Users\\\\svvlk\\\\Documents\\\\python\\\\personal\\\\bigram_wordclouds\\\\'\n",
    "os.makedirs(home_path + 'compiled_corpora\\\\clean')\n",
    "\n",
    "file_directory = home_path + 'compiled_corpora\\\\'\n",
    "for x in os.listdir(file_directory):\n",
    "    if x.endswith('.txt'):\n",
    "        file = file_directory + x\n",
    "        os.chdir(file_directory)\n",
    "        f = open(file, \"r\", encoding=\"utf-8\")\n",
    "        text = f.read()\n",
    "        f.close()\n",
    "        text_clean = preprocessor(text)\n",
    "        x = x[:-4] + \"_clean.txt\"\n",
    "        os.chdir(\".\\\\clean\")\n",
    "        f = open(\"%s\" % x, \"w\", encoding=\"utf-8\")\n",
    "        f.write(text_clean)\n",
    "        f.close()"
   ]
  },
  {
   "cell_type": "code",
   "execution_count": 8,
   "metadata": {},
   "outputs": [],
   "source": [
    "# Создаем очищенную версию каждого произведения по отдельности в папке 'compiled_corpora\\clean\\имя_clean'\n",
    "\n",
    "file_directory2 = home_path + 'archive\\\\prose\\\\'\n",
    "for x in os.listdir(file_directory2):\n",
    "    new_dir = file_directory2 + x\n",
    "    x = x + '_clean'\n",
    "    for i in os.listdir(new_dir): \n",
    "        if i.endswith('.txt'):\n",
    "            os.chdir(new_dir)\n",
    "            f = open(i, \"r\", encoding=\"utf-8\")\n",
    "            text = f.read()\n",
    "            f.close()\n",
    "            new_text = preprocessor(text)\n",
    "            os.chdir(file_directory + '\\\\clean')\n",
    "            if x not in os.listdir():\n",
    "                os.mkdir(x)\n",
    "            os.chdir(x)\n",
    "            i = i[:-4] + \"_clean.txt\"\n",
    "            f = open(i, \"w\", encoding=\"utf-8\")\n",
    "            f.write(new_text)\n",
    "            f.close\n",
    "            "
   ]
  },
  {
   "cell_type": "code",
   "execution_count": 12,
   "metadata": {},
   "outputs": [
    {
     "name": "stdout",
     "output_type": "stream",
     "text": [
      "Количество слов в очищенном корпусе: 5037536\n"
     ]
    }
   ],
   "source": [
    "# Посмотрим на объем очищенного корпуса\n",
    "\n",
    "os.chdir(home_path + 'compiled_corpora\\\\clean')\n",
    "f = open(\"total_corp_clean.txt\", \"r\", encoding=\"utf-8\")\n",
    "text = f.read()\n",
    "f.close()\n",
    "print('Количество слов в очищенном корпусе:', len(text.split()))"
   ]
  }
 ],
 "metadata": {
  "kernelspec": {
   "display_name": "Python 3",
   "language": "python",
   "name": "python3"
  },
  "language_info": {
   "codemirror_mode": {
    "name": "ipython",
    "version": 3
   },
   "file_extension": ".py",
   "mimetype": "text/x-python",
   "name": "python",
   "nbconvert_exporter": "python",
   "pygments_lexer": "ipython3",
   "version": "3.10.7"
  }
 },
 "nbformat": 4,
 "nbformat_minor": 4
}
